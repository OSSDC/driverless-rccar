{
 "cells": [
  {
   "cell_type": "markdown",
   "metadata": {},
   "source": [
    "# Follow the Carrot Path Tracking"
   ]
  },
  {
   "cell_type": "markdown",
   "metadata": {},
   "source": [
    "## Introduction\n",
    "\n",
    "Previously, I studied [simple PID path tracking and tuning the PIDs using genetic algorithm](1-simple-pid-path-tracking.ipynb). [Follow the carrot](http://www8.cs.umu.se/kurser/TDBD17/VT06/utdelat/Assignment%20Papers/Path%20Tracking%20for%20a%20Miniature%20Robot.pdf) is the second path tracking algorithm I am going to cover in this notebook. This algorithm calls for more involved maths. First we are going to go through the required maths, then implement python classes to plot simulation graphs, and finally implement an animation of the algorithm.\n",
    "\n",
    "We are going to implement a new class `PathDescriber` instead of the old `DistanceMeter` class implemented for [simple PID path tracking](1-simple-pid-path-tracking.ipynb). `PathDescriber` is the primary class for the new steering control algorithm. Other classes remain pretty much the same as they were in  [simple PID path tracking](1-simple-pid-path-tracking.ipynb)."
   ]
  },
  {
   "cell_type": "markdown",
   "metadata": {
    "collapsed": true
   },
   "source": [
    "## The Maths\n",
    "\n",
    "<img src=\"img/2/the_maths.png\", width=550, height=440>\n",
    "\n",
    "$\\delta$ is the steering angle. $O$ is the origin of the global coordinate system. $P$ is the position of the robot. $P_1$, $P_3$, and $P_5$ are the waypoints. $P_2$ is the center of the circle. $\\overline{PP_2}$ is perpendicular to $\\overline{P_1P_3}$. $\\overline{P_2P_4}$ is defined as **look-ahead distance**. Angle $\\psi$ describes the robot orientation with respect to the global $x$ axis. $\\alpha_m$ is the measured angle between  the look-ahead distance and the robot orientation.\n",
    "\n",
    "As the robot moves along the path, we are to find points $P_2$ and $P_4$, then calculate $\\alpha_m$. Point $P_4$ can be on the nearest path segment or on any segment after the nearest. It depends on the chosen look-ahead distance. We should iterate the segments from the nearest to the last to locate $P_4$, which is the intersection between a segment on the path and the circle centered at $P_2$ with the radius of $\\overline{P_2P_4}$ (i.e. the look-ahead distance).\n",
    "\n",
    "We can find the center of the circle $P_2$ using the vector $\\vec{OP_2}$.\n",
    "\n",
    "$$\\begin{align}\n",
    "\\vec{OP_2} &= \\vec{OP_1} + \\vec{P_1P_2} \\\\\n",
    "\\vec{OP_2} &= \\vec{OP_1} + \\vec{P_1P}\\cdot\\vec{P_1P_3}\n",
    "\\end{align}$$\n",
    "\n",
    "$P_4$ can be located using the inersection between the line and the circle. See [Circle-Line Intersection](http://mathworld.wolfram.com/Circle-LineIntersection.html) for more details.\n",
    "\n",
    "Let $P_k$ be the point $(x_k, y_k)$\n",
    "\n",
    "Let $(x_k', y_k')$ be  $(x_k - x_2, y_k - y_2)$ (i.e. translate the center of the circle to the origin $O(0,0)$)\n",
    "\n",
    "$$\\begin{align}\n",
    "d_x &= x_5' - x_3' \\\\\n",
    "d_y &= y_5' - y_3' \\\\\n",
    "\\lvert P_3P_5 \\rvert^2 &= d_{x}^2  + d_{y}^2 \\\\\n",
    "D &= \\begin{vmatrix}\n",
    "x_3' & x_5'\\\\\n",
    "y_3' & y_5'\n",
    "\\end{vmatrix} = x_3'y_5' - x_5'y_3' \\\\\n",
    "\\text{sgn*}(x) &= \\begin{cases}\n",
    " -1, & \\text{for } x < 0 \\\\\n",
    "  1, & \\text{otherwise}\n",
    "\\end{cases} \\\\\n",
    "\\Delta &= \\lvert P_2P_4 \\rvert ^2 \\lvert P_3P_5 \\rvert ^2 - D^2 \\\\\n",
    "x_4 &= \\frac{Dd_y \\pm \\text{sgn*}(d_y)d_x\\sqrt{\\Delta}}{\\lvert P_3P_5 \\rvert^2} + x_2 \\\\\n",
    "y_4 &= \\frac{Dd_x \\pm \\lvert d_y \\rvert d_x\\sqrt{\\Delta}}{\\lvert P_3P_5 \\rvert^2} + y_2\n",
    "\\end{align}$$\n",
    "\n",
    "| $\\Delta$      |  incidence    |\n",
    "| ------------- |:-------------:|\n",
    "| $\\Delta$ < 0  | no interestion|\n",
    "| $\\Delta$ = 0  | tangent       |\n",
    "| $\\Delta$ > 0  | intersection  |"
   ]
  },
  {
   "cell_type": "markdown",
   "metadata": {},
   "source": [
    "## Steering Control\n",
    "\n",
    "![steering_control](img/2/steering_control.png)\n",
    "As mentioned before, $\\alpha_m$ is the measured angle between the look-ahead distance and the robot orientation. $\\alpha_d$ is the desired angle and it is always zero, as we want $\\alpha_m$ to be zero. Error is given as $\\alpha_e = \\alpha_d - \\alpha_m$. Steering angle $\\delta$ is calcuated as follows using a PID controller.\n",
    "\n",
    "$$\\begin{align}\n",
    "\\delta(t) = K_p\\alpha_e(t) + K_i\\int_{0}^{t}\\alpha_e(\\tau)\\text(d)\\tau + K_d\\frac{d\\alpha_e(t)}{dt}\n",
    "\\end{align}$$\n",
    "\n",
    "In most cases proportional coefficient $K_p$ is enough to get a satisfactory results. If we need further adjustment, we can set integral and derivative coefficients $K_i$, $K_d$ to nonzero values and tweak them in order to improve the performance. Also note that the steering angle $\\delta$ should be mapped to servo signals in practice."
   ]
  },
  {
   "cell_type": "code",
   "execution_count": null,
   "metadata": {
    "collapsed": true
   },
   "outputs": [],
   "source": []
  }
 ],
 "metadata": {
  "kernelspec": {
   "display_name": "Python 3",
   "language": "python",
   "name": "python3"
  },
  "language_info": {
   "codemirror_mode": {
    "name": "ipython",
    "version": 3
   },
   "file_extension": ".py",
   "mimetype": "text/x-python",
   "name": "python",
   "nbconvert_exporter": "python",
   "pygments_lexer": "ipython3",
   "version": "3.5.1"
  }
 },
 "nbformat": 4,
 "nbformat_minor": 0
}
